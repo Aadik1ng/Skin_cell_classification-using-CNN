{
  "nbformat": 4,
  "nbformat_minor": 0,
  "metadata": {
    "colab": {
      "provenance": [],
      "gpuType": "T4",
      "authorship_tag": "ABX9TyMKcNnuulA9UXYKt65IRiry",
      "include_colab_link": true
    },
    "kernelspec": {
      "name": "python3",
      "display_name": "Python 3"
    },
    "language_info": {
      "name": "python"
    },
    "accelerator": "GPU"
  },
  "cells": [
    {
      "cell_type": "markdown",
      "metadata": {
        "id": "view-in-github",
        "colab_type": "text"
      },
      "source": [
        "<a href=\"https://colab.research.google.com/github/Aadik1ng/Skin_cell_classification-using-CNN/blob/main/Skin_Cell_detection_using_CNN.ipynb\" target=\"_parent\"><img src=\"https://colab.research.google.com/assets/colab-badge.svg\" alt=\"Open In Colab\"/></a>"
      ]
    },
    {
      "cell_type": "code",
      "source": [
        "import glob\n",
        "import tensorflow as tf\n",
        "from tensorflow import keras\n",
        "import gc\n",
        "import random\n",
        "import os\n",
        "import pandas as pd\n",
        "import json\n",
        "import zipfile\n",
        "import os\n",
        "import numpy as np\n",
        "import tensorflow as tf\n",
        "from PIL import Image\n",
        "import numpy as np\n",
        "import pandas as pd"
      ],
      "metadata": {
        "id": "vUdjSarm6x84"
      },
      "execution_count": 1,
      "outputs": []
    },
    {
      "cell_type": "code",
      "source": [
        "!mkdir ~/.kaggle\n",
        "\n",
        "!touch ~/.kaggle/kaggle.json\n",
        "\n",
        "api_token = {\"username\":\"adik1ng\",\"key\":\"b172f9e6f987c3e819a9e2876f26881a\"}\n",
        "\n",
        "\n",
        "\n",
        "with open('/root/.kaggle/kaggle.json', 'w') as file:\n",
        "    json.dump(api_token, file)\n",
        "\n",
        "!chmod 600 ~/.kaggle/kaggle.json"
      ],
      "metadata": {
        "id": "siRT-4Av5ezJ",
        "colab": {
          "base_uri": "https://localhost:8080/"
        },
        "outputId": "43066211-d871-4422-e86b-5ba211af17b6"
      },
      "execution_count": 2,
      "outputs": [
        {
          "output_type": "stream",
          "name": "stdout",
          "text": [
            "mkdir: cannot create directory ‘/root/.kaggle’: File exists\n"
          ]
        }
      ]
    },
    {
      "cell_type": "code",
      "execution_count": 5,
      "metadata": {
        "id": "GfRIBjGp4wlQ",
        "colab": {
          "base_uri": "https://localhost:8080/"
        },
        "outputId": "56e38664-2046-4c66-cc87-d574b9279cdf"
      },
      "outputs": [
        {
          "output_type": "stream",
          "name": "stdout",
          "text": [
            "skin-cancer-mnist-ham10000.zip: Skipping, found more recently modified local copy (use --force to force download)\n"
          ]
        }
      ],
      "source": [
        "!kaggle datasets download -d kmader/skin-cancer-mnist-ham10000"
      ]
    },
    {
      "cell_type": "code",
      "source": [
        "%%time\n",
        "\n",
        "# Unzip the dataset\n",
        "zip = '/content/skin-cancer-mnist-ham10000.zip'\n",
        "zip_ref = zipfile.ZipFile(zip, 'r')\n",
        "zip_ref.extractall('images')\n",
        "zip_ref.close()"
      ],
      "metadata": {
        "id": "d1AZ0Giu43hx"
      },
      "execution_count": null,
      "outputs": []
    },
    {
      "cell_type": "code",
      "source": [
        "cancer=pd.read_csv(\"/content/images/HAM10000_metadata.csv\")"
      ],
      "metadata": {
        "id": "aMnM9s8a7mom"
      },
      "execution_count": 2,
      "outputs": []
    },
    {
      "cell_type": "code",
      "source": [
        "cancer['age'].fillna('mean',inplace=True)"
      ],
      "metadata": {
        "id": "blH7AKKnZmWZ"
      },
      "execution_count": 3,
      "outputs": []
    },
    {
      "cell_type": "code",
      "source": [
        "paths=[]\n",
        "for arw in os.listdir('/content/images'):\n",
        "  if (arw[:10]=='ham10000_i'):\n",
        "      inside=os.path.join('/content/images',arw)\n",
        "      for imagearw in os.listdir(inside):\n",
        "        paths.append(os.path.join(inside,imagearw))"
      ],
      "metadata": {
        "id": "6gi7xq6waG0x"
      },
      "execution_count": 4,
      "outputs": []
    },
    {
      "cell_type": "code",
      "source": [
        "ids_paths = {os.path.splitext(os.path.basename(path))[0]:path for path in paths}\n",
        "cancer['path']=cancer['image_id'].map(ids_paths)\n"
      ],
      "metadata": {
        "id": "ZJNaup7GCV8_"
      },
      "execution_count": 5,
      "outputs": []
    },
    {
      "cell_type": "code",
      "source": [
        "labels=cancer['dx'].to_frame()\n",
        "labels.describe()\n",
        "label=pd.get_dummies(labels)"
      ],
      "metadata": {
        "id": "4B7qrRN6VK2M"
      },
      "execution_count": 6,
      "outputs": []
    },
    {
      "cell_type": "code",
      "source": [
        "from sklearn.preprocessing import LabelEncoder\n",
        "\n",
        "# Create an instance of LabelEncoder\n",
        "label_encoder = LabelEncoder()\n",
        "\n",
        "# Fit the LabelEncoder on the column\n",
        "encoded_labels = label_encoder.fit_transform(labels)\n",
        "\n",
        "\n"
      ],
      "metadata": {
        "colab": {
          "base_uri": "https://localhost:8080/"
        },
        "id": "E_QvGkU86Bm5",
        "outputId": "008fbd99-1afb-409a-a1e1-b993722326e8"
      },
      "execution_count": 7,
      "outputs": [
        {
          "output_type": "stream",
          "name": "stderr",
          "text": [
            "/usr/local/lib/python3.10/dist-packages/sklearn/preprocessing/_label.py:116: DataConversionWarning: A column-vector y was passed when a 1d array was expected. Please change the shape of y to (n_samples, ), for example using ravel().\n",
            "  y = column_or_1d(y, warn=True)\n"
          ]
        }
      ]
    },
    {
      "cell_type": "code",
      "source": [
        "cancer['encoded_labels']=encoded_labels"
      ],
      "metadata": {
        "id": "6mKEuL2aJkEj"
      },
      "execution_count": 8,
      "outputs": []
    },
    {
      "cell_type": "code",
      "source": [
        "cancer.drop(['lesion_id','image_id','path','dx'],inplace=True,axis=1)"
      ],
      "metadata": {
        "id": "Cc3BNz5E9LY_"
      },
      "execution_count": 9,
      "outputs": []
    },
    {
      "cell_type": "code",
      "source": [
        "cancer.head()"
      ],
      "metadata": {
        "colab": {
          "base_uri": "https://localhost:8080/",
          "height": 206
        },
        "id": "w03PCwUTa0b8",
        "outputId": "b6ccb8f3-6d07-4921-ad65-bd3e28815d3d"
      },
      "execution_count": 10,
      "outputs": [
        {
          "output_type": "execute_result",
          "data": {
            "text/plain": [
              "  dx_type   age   sex localization  encoded_labels\n",
              "0   histo  80.0  male        scalp               2\n",
              "1   histo  80.0  male        scalp               2\n",
              "2   histo  80.0  male        scalp               2\n",
              "3   histo  80.0  male        scalp               2\n",
              "4   histo  75.0  male          ear               2"
            ],
            "text/html": [
              "\n",
              "  <div id=\"df-c6a483c0-e14a-44c9-a68c-453eb9776eee\">\n",
              "    <div class=\"colab-df-container\">\n",
              "      <div>\n",
              "<style scoped>\n",
              "    .dataframe tbody tr th:only-of-type {\n",
              "        vertical-align: middle;\n",
              "    }\n",
              "\n",
              "    .dataframe tbody tr th {\n",
              "        vertical-align: top;\n",
              "    }\n",
              "\n",
              "    .dataframe thead th {\n",
              "        text-align: right;\n",
              "    }\n",
              "</style>\n",
              "<table border=\"1\" class=\"dataframe\">\n",
              "  <thead>\n",
              "    <tr style=\"text-align: right;\">\n",
              "      <th></th>\n",
              "      <th>dx_type</th>\n",
              "      <th>age</th>\n",
              "      <th>sex</th>\n",
              "      <th>localization</th>\n",
              "      <th>encoded_labels</th>\n",
              "    </tr>\n",
              "  </thead>\n",
              "  <tbody>\n",
              "    <tr>\n",
              "      <th>0</th>\n",
              "      <td>histo</td>\n",
              "      <td>80.0</td>\n",
              "      <td>male</td>\n",
              "      <td>scalp</td>\n",
              "      <td>2</td>\n",
              "    </tr>\n",
              "    <tr>\n",
              "      <th>1</th>\n",
              "      <td>histo</td>\n",
              "      <td>80.0</td>\n",
              "      <td>male</td>\n",
              "      <td>scalp</td>\n",
              "      <td>2</td>\n",
              "    </tr>\n",
              "    <tr>\n",
              "      <th>2</th>\n",
              "      <td>histo</td>\n",
              "      <td>80.0</td>\n",
              "      <td>male</td>\n",
              "      <td>scalp</td>\n",
              "      <td>2</td>\n",
              "    </tr>\n",
              "    <tr>\n",
              "      <th>3</th>\n",
              "      <td>histo</td>\n",
              "      <td>80.0</td>\n",
              "      <td>male</td>\n",
              "      <td>scalp</td>\n",
              "      <td>2</td>\n",
              "    </tr>\n",
              "    <tr>\n",
              "      <th>4</th>\n",
              "      <td>histo</td>\n",
              "      <td>75.0</td>\n",
              "      <td>male</td>\n",
              "      <td>ear</td>\n",
              "      <td>2</td>\n",
              "    </tr>\n",
              "  </tbody>\n",
              "</table>\n",
              "</div>\n",
              "      <button class=\"colab-df-convert\" onclick=\"convertToInteractive('df-c6a483c0-e14a-44c9-a68c-453eb9776eee')\"\n",
              "              title=\"Convert this dataframe to an interactive table.\"\n",
              "              style=\"display:none;\">\n",
              "        \n",
              "  <svg xmlns=\"http://www.w3.org/2000/svg\" height=\"24px\"viewBox=\"0 0 24 24\"\n",
              "       width=\"24px\">\n",
              "    <path d=\"M0 0h24v24H0V0z\" fill=\"none\"/>\n",
              "    <path d=\"M18.56 5.44l.94 2.06.94-2.06 2.06-.94-2.06-.94-.94-2.06-.94 2.06-2.06.94zm-11 1L8.5 8.5l.94-2.06 2.06-.94-2.06-.94L8.5 2.5l-.94 2.06-2.06.94zm10 10l.94 2.06.94-2.06 2.06-.94-2.06-.94-.94-2.06-.94 2.06-2.06.94z\"/><path d=\"M17.41 7.96l-1.37-1.37c-.4-.4-.92-.59-1.43-.59-.52 0-1.04.2-1.43.59L10.3 9.45l-7.72 7.72c-.78.78-.78 2.05 0 2.83L4 21.41c.39.39.9.59 1.41.59.51 0 1.02-.2 1.41-.59l7.78-7.78 2.81-2.81c.8-.78.8-2.07 0-2.86zM5.41 20L4 18.59l7.72-7.72 1.47 1.35L5.41 20z\"/>\n",
              "  </svg>\n",
              "      </button>\n",
              "      \n",
              "  <style>\n",
              "    .colab-df-container {\n",
              "      display:flex;\n",
              "      flex-wrap:wrap;\n",
              "      gap: 12px;\n",
              "    }\n",
              "\n",
              "    .colab-df-convert {\n",
              "      background-color: #E8F0FE;\n",
              "      border: none;\n",
              "      border-radius: 50%;\n",
              "      cursor: pointer;\n",
              "      display: none;\n",
              "      fill: #1967D2;\n",
              "      height: 32px;\n",
              "      padding: 0 0 0 0;\n",
              "      width: 32px;\n",
              "    }\n",
              "\n",
              "    .colab-df-convert:hover {\n",
              "      background-color: #E2EBFA;\n",
              "      box-shadow: 0px 1px 2px rgba(60, 64, 67, 0.3), 0px 1px 3px 1px rgba(60, 64, 67, 0.15);\n",
              "      fill: #174EA6;\n",
              "    }\n",
              "\n",
              "    [theme=dark] .colab-df-convert {\n",
              "      background-color: #3B4455;\n",
              "      fill: #D2E3FC;\n",
              "    }\n",
              "\n",
              "    [theme=dark] .colab-df-convert:hover {\n",
              "      background-color: #434B5C;\n",
              "      box-shadow: 0px 1px 3px 1px rgba(0, 0, 0, 0.15);\n",
              "      filter: drop-shadow(0px 1px 2px rgba(0, 0, 0, 0.3));\n",
              "      fill: #FFFFFF;\n",
              "    }\n",
              "  </style>\n",
              "\n",
              "      <script>\n",
              "        const buttonEl =\n",
              "          document.querySelector('#df-c6a483c0-e14a-44c9-a68c-453eb9776eee button.colab-df-convert');\n",
              "        buttonEl.style.display =\n",
              "          google.colab.kernel.accessAllowed ? 'block' : 'none';\n",
              "\n",
              "        async function convertToInteractive(key) {\n",
              "          const element = document.querySelector('#df-c6a483c0-e14a-44c9-a68c-453eb9776eee');\n",
              "          const dataTable =\n",
              "            await google.colab.kernel.invokeFunction('convertToInteractive',\n",
              "                                                     [key], {});\n",
              "          if (!dataTable) return;\n",
              "\n",
              "          const docLinkHtml = 'Like what you see? Visit the ' +\n",
              "            '<a target=\"_blank\" href=https://colab.research.google.com/notebooks/data_table.ipynb>data table notebook</a>'\n",
              "            + ' to learn more about interactive tables.';\n",
              "          element.innerHTML = '';\n",
              "          dataTable['output_type'] = 'display_data';\n",
              "          await google.colab.output.renderOutput(dataTable, element);\n",
              "          const docLink = document.createElement('div');\n",
              "          docLink.innerHTML = docLinkHtml;\n",
              "          element.appendChild(docLink);\n",
              "        }\n",
              "      </script>\n",
              "    </div>\n",
              "  </div>\n",
              "  "
            ]
          },
          "metadata": {},
          "execution_count": 10
        }
      ]
    },
    {
      "cell_type": "code",
      "source": [
        "X = cancer.drop('encoded_labels', axis=1)  # Assuming 'target' is the column name of the target variable\n",
        "y = cancer['encoded_labels']"
      ],
      "metadata": {
        "id": "0mYVxBObdCP5"
      },
      "execution_count": 11,
      "outputs": []
    },
    {
      "cell_type": "code",
      "source": [
        "import pandas as pd\n",
        "df = pd.read_csv('/content/images/hmnist_28_28_RGB.csv')\n",
        "y = df['label']\n",
        "x = df.drop(columns = ['label'])\n",
        "x.shape"
      ],
      "metadata": {
        "colab": {
          "base_uri": "https://localhost:8080/"
        },
        "id": "CQP8UIhT-eK0",
        "outputId": "ea3d6f32-b74a-46c1-de45-ab578c45a57a"
      },
      "execution_count": 12,
      "outputs": [
        {
          "output_type": "execute_result",
          "data": {
            "text/plain": [
              "(10015, 2352)"
            ]
          },
          "metadata": {},
          "execution_count": 12
        }
      ]
    },
    {
      "cell_type": "code",
      "source": [
        "df.head()"
      ],
      "metadata": {
        "colab": {
          "base_uri": "https://localhost:8080/",
          "height": 300
        },
        "id": "7HKbpsiwKuVP",
        "outputId": "85027028-aaff-43b5-8cfd-4f7bab6ec2e1"
      },
      "execution_count": 29,
      "outputs": [
        {
          "output_type": "execute_result",
          "data": {
            "text/plain": [
              "   pixel0000  pixel0001  pixel0002  pixel0003  pixel0004  pixel0005  \\\n",
              "0        192        153        193        195        155        192   \n",
              "1         25         14         30         68         48         75   \n",
              "2        192        138        153        200        145        163   \n",
              "3         38         19         30         95         59         72   \n",
              "4        158        113        139        194        144        174   \n",
              "\n",
              "   pixel0006  pixel0007  pixel0008  pixel0009  ...  pixel2343  pixel2344  \\\n",
              "0        197        154        185        202  ...        173        124   \n",
              "1        123         93        126        158  ...         60         39   \n",
              "2        201        142        160        206  ...        167        129   \n",
              "3        143        103        119        171  ...         44         26   \n",
              "4        215        162        191        225  ...        209        166   \n",
              "\n",
              "   pixel2345  pixel2346  pixel2347  pixel2348  pixel2349  pixel2350  \\\n",
              "0        138        183        147        166        185        154   \n",
              "1         55         25         14         28         25         14   \n",
              "2        143        159        124        142        136        104   \n",
              "3         36         25         12         17         25         12   \n",
              "4        185        172        135        149        109         78   \n",
              "\n",
              "   pixel2351  label  \n",
              "0        177      2  \n",
              "1         27      2  \n",
              "2        117      2  \n",
              "3         15      2  \n",
              "4         92      2  \n",
              "\n",
              "[5 rows x 2353 columns]"
            ],
            "text/html": [
              "\n",
              "  <div id=\"df-905edfa1-b378-4814-8368-f105983ef1cd\">\n",
              "    <div class=\"colab-df-container\">\n",
              "      <div>\n",
              "<style scoped>\n",
              "    .dataframe tbody tr th:only-of-type {\n",
              "        vertical-align: middle;\n",
              "    }\n",
              "\n",
              "    .dataframe tbody tr th {\n",
              "        vertical-align: top;\n",
              "    }\n",
              "\n",
              "    .dataframe thead th {\n",
              "        text-align: right;\n",
              "    }\n",
              "</style>\n",
              "<table border=\"1\" class=\"dataframe\">\n",
              "  <thead>\n",
              "    <tr style=\"text-align: right;\">\n",
              "      <th></th>\n",
              "      <th>pixel0000</th>\n",
              "      <th>pixel0001</th>\n",
              "      <th>pixel0002</th>\n",
              "      <th>pixel0003</th>\n",
              "      <th>pixel0004</th>\n",
              "      <th>pixel0005</th>\n",
              "      <th>pixel0006</th>\n",
              "      <th>pixel0007</th>\n",
              "      <th>pixel0008</th>\n",
              "      <th>pixel0009</th>\n",
              "      <th>...</th>\n",
              "      <th>pixel2343</th>\n",
              "      <th>pixel2344</th>\n",
              "      <th>pixel2345</th>\n",
              "      <th>pixel2346</th>\n",
              "      <th>pixel2347</th>\n",
              "      <th>pixel2348</th>\n",
              "      <th>pixel2349</th>\n",
              "      <th>pixel2350</th>\n",
              "      <th>pixel2351</th>\n",
              "      <th>label</th>\n",
              "    </tr>\n",
              "  </thead>\n",
              "  <tbody>\n",
              "    <tr>\n",
              "      <th>0</th>\n",
              "      <td>192</td>\n",
              "      <td>153</td>\n",
              "      <td>193</td>\n",
              "      <td>195</td>\n",
              "      <td>155</td>\n",
              "      <td>192</td>\n",
              "      <td>197</td>\n",
              "      <td>154</td>\n",
              "      <td>185</td>\n",
              "      <td>202</td>\n",
              "      <td>...</td>\n",
              "      <td>173</td>\n",
              "      <td>124</td>\n",
              "      <td>138</td>\n",
              "      <td>183</td>\n",
              "      <td>147</td>\n",
              "      <td>166</td>\n",
              "      <td>185</td>\n",
              "      <td>154</td>\n",
              "      <td>177</td>\n",
              "      <td>2</td>\n",
              "    </tr>\n",
              "    <tr>\n",
              "      <th>1</th>\n",
              "      <td>25</td>\n",
              "      <td>14</td>\n",
              "      <td>30</td>\n",
              "      <td>68</td>\n",
              "      <td>48</td>\n",
              "      <td>75</td>\n",
              "      <td>123</td>\n",
              "      <td>93</td>\n",
              "      <td>126</td>\n",
              "      <td>158</td>\n",
              "      <td>...</td>\n",
              "      <td>60</td>\n",
              "      <td>39</td>\n",
              "      <td>55</td>\n",
              "      <td>25</td>\n",
              "      <td>14</td>\n",
              "      <td>28</td>\n",
              "      <td>25</td>\n",
              "      <td>14</td>\n",
              "      <td>27</td>\n",
              "      <td>2</td>\n",
              "    </tr>\n",
              "    <tr>\n",
              "      <th>2</th>\n",
              "      <td>192</td>\n",
              "      <td>138</td>\n",
              "      <td>153</td>\n",
              "      <td>200</td>\n",
              "      <td>145</td>\n",
              "      <td>163</td>\n",
              "      <td>201</td>\n",
              "      <td>142</td>\n",
              "      <td>160</td>\n",
              "      <td>206</td>\n",
              "      <td>...</td>\n",
              "      <td>167</td>\n",
              "      <td>129</td>\n",
              "      <td>143</td>\n",
              "      <td>159</td>\n",
              "      <td>124</td>\n",
              "      <td>142</td>\n",
              "      <td>136</td>\n",
              "      <td>104</td>\n",
              "      <td>117</td>\n",
              "      <td>2</td>\n",
              "    </tr>\n",
              "    <tr>\n",
              "      <th>3</th>\n",
              "      <td>38</td>\n",
              "      <td>19</td>\n",
              "      <td>30</td>\n",
              "      <td>95</td>\n",
              "      <td>59</td>\n",
              "      <td>72</td>\n",
              "      <td>143</td>\n",
              "      <td>103</td>\n",
              "      <td>119</td>\n",
              "      <td>171</td>\n",
              "      <td>...</td>\n",
              "      <td>44</td>\n",
              "      <td>26</td>\n",
              "      <td>36</td>\n",
              "      <td>25</td>\n",
              "      <td>12</td>\n",
              "      <td>17</td>\n",
              "      <td>25</td>\n",
              "      <td>12</td>\n",
              "      <td>15</td>\n",
              "      <td>2</td>\n",
              "    </tr>\n",
              "    <tr>\n",
              "      <th>4</th>\n",
              "      <td>158</td>\n",
              "      <td>113</td>\n",
              "      <td>139</td>\n",
              "      <td>194</td>\n",
              "      <td>144</td>\n",
              "      <td>174</td>\n",
              "      <td>215</td>\n",
              "      <td>162</td>\n",
              "      <td>191</td>\n",
              "      <td>225</td>\n",
              "      <td>...</td>\n",
              "      <td>209</td>\n",
              "      <td>166</td>\n",
              "      <td>185</td>\n",
              "      <td>172</td>\n",
              "      <td>135</td>\n",
              "      <td>149</td>\n",
              "      <td>109</td>\n",
              "      <td>78</td>\n",
              "      <td>92</td>\n",
              "      <td>2</td>\n",
              "    </tr>\n",
              "  </tbody>\n",
              "</table>\n",
              "<p>5 rows × 2353 columns</p>\n",
              "</div>\n",
              "      <button class=\"colab-df-convert\" onclick=\"convertToInteractive('df-905edfa1-b378-4814-8368-f105983ef1cd')\"\n",
              "              title=\"Convert this dataframe to an interactive table.\"\n",
              "              style=\"display:none;\">\n",
              "        \n",
              "  <svg xmlns=\"http://www.w3.org/2000/svg\" height=\"24px\"viewBox=\"0 0 24 24\"\n",
              "       width=\"24px\">\n",
              "    <path d=\"M0 0h24v24H0V0z\" fill=\"none\"/>\n",
              "    <path d=\"M18.56 5.44l.94 2.06.94-2.06 2.06-.94-2.06-.94-.94-2.06-.94 2.06-2.06.94zm-11 1L8.5 8.5l.94-2.06 2.06-.94-2.06-.94L8.5 2.5l-.94 2.06-2.06.94zm10 10l.94 2.06.94-2.06 2.06-.94-2.06-.94-.94-2.06-.94 2.06-2.06.94z\"/><path d=\"M17.41 7.96l-1.37-1.37c-.4-.4-.92-.59-1.43-.59-.52 0-1.04.2-1.43.59L10.3 9.45l-7.72 7.72c-.78.78-.78 2.05 0 2.83L4 21.41c.39.39.9.59 1.41.59.51 0 1.02-.2 1.41-.59l7.78-7.78 2.81-2.81c.8-.78.8-2.07 0-2.86zM5.41 20L4 18.59l7.72-7.72 1.47 1.35L5.41 20z\"/>\n",
              "  </svg>\n",
              "      </button>\n",
              "      \n",
              "  <style>\n",
              "    .colab-df-container {\n",
              "      display:flex;\n",
              "      flex-wrap:wrap;\n",
              "      gap: 12px;\n",
              "    }\n",
              "\n",
              "    .colab-df-convert {\n",
              "      background-color: #E8F0FE;\n",
              "      border: none;\n",
              "      border-radius: 50%;\n",
              "      cursor: pointer;\n",
              "      display: none;\n",
              "      fill: #1967D2;\n",
              "      height: 32px;\n",
              "      padding: 0 0 0 0;\n",
              "      width: 32px;\n",
              "    }\n",
              "\n",
              "    .colab-df-convert:hover {\n",
              "      background-color: #E2EBFA;\n",
              "      box-shadow: 0px 1px 2px rgba(60, 64, 67, 0.3), 0px 1px 3px 1px rgba(60, 64, 67, 0.15);\n",
              "      fill: #174EA6;\n",
              "    }\n",
              "\n",
              "    [theme=dark] .colab-df-convert {\n",
              "      background-color: #3B4455;\n",
              "      fill: #D2E3FC;\n",
              "    }\n",
              "\n",
              "    [theme=dark] .colab-df-convert:hover {\n",
              "      background-color: #434B5C;\n",
              "      box-shadow: 0px 1px 3px 1px rgba(0, 0, 0, 0.15);\n",
              "      filter: drop-shadow(0px 1px 2px rgba(0, 0, 0, 0.3));\n",
              "      fill: #FFFFFF;\n",
              "    }\n",
              "  </style>\n",
              "\n",
              "      <script>\n",
              "        const buttonEl =\n",
              "          document.querySelector('#df-905edfa1-b378-4814-8368-f105983ef1cd button.colab-df-convert');\n",
              "        buttonEl.style.display =\n",
              "          google.colab.kernel.accessAllowed ? 'block' : 'none';\n",
              "\n",
              "        async function convertToInteractive(key) {\n",
              "          const element = document.querySelector('#df-905edfa1-b378-4814-8368-f105983ef1cd');\n",
              "          const dataTable =\n",
              "            await google.colab.kernel.invokeFunction('convertToInteractive',\n",
              "                                                     [key], {});\n",
              "          if (!dataTable) return;\n",
              "\n",
              "          const docLinkHtml = 'Like what you see? Visit the ' +\n",
              "            '<a target=\"_blank\" href=https://colab.research.google.com/notebooks/data_table.ipynb>data table notebook</a>'\n",
              "            + ' to learn more about interactive tables.';\n",
              "          element.innerHTML = '';\n",
              "          dataTable['output_type'] = 'display_data';\n",
              "          await google.colab.output.renderOutput(dataTable, element);\n",
              "          const docLink = document.createElement('div');\n",
              "          docLink.innerHTML = docLinkHtml;\n",
              "          element.appendChild(docLink);\n",
              "        }\n",
              "      </script>\n",
              "    </div>\n",
              "  </div>\n",
              "  "
            ]
          },
          "metadata": {},
          "execution_count": 29
        }
      ]
    },
    {
      "cell_type": "code",
      "source": [
        "import numpy as np\n",
        "import pandas as pd\n",
        "import tensorflow as tf\n",
        "from sklearn.model_selection import train_test_split\n",
        "from tensorflow.keras import layers, models"
      ],
      "metadata": {
        "id": "2BTr149fBH1l"
      },
      "execution_count": 14,
      "outputs": []
    },
    {
      "cell_type": "code",
      "source": [
        "# Load pixel values from pixel_df\n",
        "pixel_data =df.drop('label', axis=1)  # Assuming 'target' is the column name of the target variable\n",
        "pixel_data = pixel_data.values\n",
        "pixel_data = pixel_data.reshape(-1, 28, 28, 3)\n",
        "pixel_data=pixel_data/255\n",
        "# Convert the target labels to one-hot encoding\n",
        "target_labels =label\n",
        "\n",
        "# Split the data into training and testing sets\n",
        "X_train, X_test, y_train, y_test = train_test_split(pixel_data, target_labels, test_size=0.2)\n"
      ],
      "metadata": {
        "id": "hy_t8xh8MdX6"
      },
      "execution_count": 19,
      "outputs": []
    },
    {
      "cell_type": "code",
      "source": [
        "target_labels"
      ],
      "metadata": {
        "id": "AnN9pk57OMfh"
      },
      "execution_count": null,
      "outputs": []
    },
    {
      "cell_type": "code",
      "source": [
        "num_classes=7\n",
        "model = tf.keras.Sequential()\n",
        "\n",
        "model.add(layers.Conv2D(256, kernel_size=(3, 3), input_shape=(28, 28, 3), activation='relu', padding='same'))\n",
        "model.add(tf.keras.layers.Conv2D(30,(3,3),strides=(1,1),padding='valid',activation='relu'))\n",
        "model.add(tf.keras.layers.BatchNormalization())\n",
        "\n",
        "model.add(tf.keras.layers.MaxPool2D(pool_size=(2,2),strides=None,padding='valid'))\n",
        "model.add(tf.keras.layers.Conv2D(20,(3,3),strides=(1,1),padding='valid',activation='relu'))\n",
        "model.add(tf.keras.layers.Conv2D(15,(3,3),strides=(1,1),padding='valid',activation='relu'))\n",
        "model.add(tf.keras.layers.Conv2D(15,(3,3),strides=(1,1),padding='valid',activation='relu'))\n",
        "model.add(tf.keras.layers.GroupNormalization(groups=3))\n",
        "\n",
        "model.add(tf.keras.layers.MaxPool2D(pool_size=(2,2),strides=None,padding='valid'))\n",
        "model.add(tf.keras.layers.Conv2D(10,(3,3),strides=(1,1),padding='valid',activation='relu'))\n",
        "model.add(tf.keras.layers.Flatten())\n",
        "model.add(tf.keras.layers.Normalization())\n",
        "\n",
        "model.add(tf.keras.layers.Dense(256,activation='relu'))\n",
        "model.add(tf.keras.layers.BatchNormalization())\n",
        "\n",
        "model.add(tf.keras.layers.Dropout(0.1))\n",
        "model.add(tf.keras.layers.Dense(128,activation='relu'))\n",
        "model.add(tf.keras.layers.Dense(7,activation='softmax'))\n",
        "model.compile(optimizer=\"Adam\",loss='categorical_crossentropy',metrics=['accuracy'])\n",
        "\n",
        "model.summary()"
      ],
      "metadata": {
        "colab": {
          "base_uri": "https://localhost:8080/"
        },
        "id": "bKq6Hi_KMeFn",
        "outputId": "2d317772-7a1c-49c6-9551-1bd0fd6ad5d2"
      },
      "execution_count": 20,
      "outputs": [
        {
          "output_type": "stream",
          "name": "stdout",
          "text": [
            "Model: \"sequential\"\n",
            "_________________________________________________________________\n",
            " Layer (type)                Output Shape              Param #   \n",
            "=================================================================\n",
            " conv2d (Conv2D)             (None, 28, 28, 256)       7168      \n",
            "                                                                 \n",
            " conv2d_1 (Conv2D)           (None, 26, 26, 30)        69150     \n",
            "                                                                 \n",
            " batch_normalization (BatchN  (None, 26, 26, 30)       120       \n",
            " ormalization)                                                   \n",
            "                                                                 \n",
            " max_pooling2d (MaxPooling2D  (None, 13, 13, 30)       0         \n",
            " )                                                               \n",
            "                                                                 \n",
            " conv2d_2 (Conv2D)           (None, 11, 11, 20)        5420      \n",
            "                                                                 \n",
            " conv2d_3 (Conv2D)           (None, 9, 9, 15)          2715      \n",
            "                                                                 \n",
            " conv2d_4 (Conv2D)           (None, 7, 7, 15)          2040      \n",
            "                                                                 \n",
            " group_normalization (GroupN  (None, 7, 7, 15)         30        \n",
            " ormalization)                                                   \n",
            "                                                                 \n",
            " max_pooling2d_1 (MaxPooling  (None, 3, 3, 15)         0         \n",
            " 2D)                                                             \n",
            "                                                                 \n",
            " conv2d_5 (Conv2D)           (None, 1, 1, 10)          1360      \n",
            "                                                                 \n",
            " flatten (Flatten)           (None, 10)                0         \n",
            "                                                                 \n",
            " normalization (Normalizatio  (None, 10)               21        \n",
            " n)                                                              \n",
            "                                                                 \n",
            " dense (Dense)               (None, 256)               2816      \n",
            "                                                                 \n",
            " batch_normalization_1 (Batc  (None, 256)              1024      \n",
            " hNormalization)                                                 \n",
            "                                                                 \n",
            " dropout (Dropout)           (None, 256)               0         \n",
            "                                                                 \n",
            " dense_1 (Dense)             (None, 128)               32896     \n",
            "                                                                 \n",
            " dense_2 (Dense)             (None, 7)                 903       \n",
            "                                                                 \n",
            "=================================================================\n",
            "Total params: 125,663\n",
            "Trainable params: 125,070\n",
            "Non-trainable params: 593\n",
            "_________________________________________________________________\n"
          ]
        }
      ]
    },
    {
      "cell_type": "code",
      "source": [
        "from tensorflow.keras.callbacks import LearningRateScheduler\n",
        "\n",
        "# Define a function that adjusts the learning rate\n",
        "def lr_schedule(epoch):\n",
        "    if epoch < 10:\n",
        "        return 0.001\n",
        "    elif epoch < 20:\n",
        "        return 0.0001\n",
        "    else:\n",
        "        return 0.00001\n",
        "\n",
        "# Create the LearningRateScheduler callback\n",
        "lr_scheduler = LearningRateScheduler(lr_schedule)"
      ],
      "metadata": {
        "id": "U3UcsBqUP0NT"
      },
      "execution_count": 22,
      "outputs": []
    },
    {
      "cell_type": "code",
      "source": [
        "%%time\n",
        "\n",
        "model.compile(optimizer='adam', loss='categorical_crossentropy', metrics=['accuracy'])\n",
        "with tf.device('/GPU:0'):\n",
        "  model.fit(X_train, y_train, epochs=50, batch_size=32, validation_data=(X_test, y_test),callbacks=[lr_scheduler])\n"
      ],
      "metadata": {
        "colab": {
          "base_uri": "https://localhost:8080/"
        },
        "id": "uqhznymlMeJv",
        "outputId": "beb29cdc-ed2e-491a-84c9-f4028eeb49d9"
      },
      "execution_count": null,
      "outputs": [
        {
          "output_type": "stream",
          "name": "stdout",
          "text": [
            "Epoch 1/50\n",
            "251/251 [==============================] - 12s 14ms/step - loss: 0.9982 - accuracy: 0.6584 - val_loss: 1.2328 - val_accuracy: 0.6495 - lr: 0.0010\n",
            "Epoch 2/50\n",
            "251/251 [==============================] - 3s 10ms/step - loss: 0.8834 - accuracy: 0.6887 - val_loss: 1.1411 - val_accuracy: 0.6221 - lr: 0.0010\n",
            "Epoch 3/50\n",
            "251/251 [==============================] - 3s 13ms/step - loss: 0.8415 - accuracy: 0.6950 - val_loss: 1.1806 - val_accuracy: 0.6011 - lr: 0.0010\n",
            "Epoch 4/50\n",
            "251/251 [==============================] - 5s 18ms/step - loss: 0.8002 - accuracy: 0.7077 - val_loss: 0.8755 - val_accuracy: 0.6865 - lr: 0.0010\n",
            "Epoch 5/50\n",
            "251/251 [==============================] - 5s 18ms/step - loss: 0.7781 - accuracy: 0.7169 - val_loss: 0.8612 - val_accuracy: 0.6895 - lr: 0.0010\n",
            "Epoch 6/50\n",
            "251/251 [==============================] - 5s 20ms/step - loss: 0.7406 - accuracy: 0.7288 - val_loss: 0.9068 - val_accuracy: 0.6780 - lr: 0.0010\n",
            "Epoch 7/50\n",
            "251/251 [==============================] - 3s 10ms/step - loss: 0.7282 - accuracy: 0.7328 - val_loss: 0.9264 - val_accuracy: 0.6730 - lr: 0.0010\n",
            "Epoch 8/50\n",
            "251/251 [==============================] - 3s 10ms/step - loss: 0.7055 - accuracy: 0.7400 - val_loss: 1.2085 - val_accuracy: 0.6615 - lr: 0.0010\n",
            "Epoch 9/50\n",
            "251/251 [==============================] - 2s 10ms/step - loss: 0.6986 - accuracy: 0.7471 - val_loss: 1.0731 - val_accuracy: 0.6805 - lr: 0.0010\n",
            "Epoch 10/50\n",
            "251/251 [==============================] - 3s 11ms/step - loss: 0.6761 - accuracy: 0.7455 - val_loss: 1.2222 - val_accuracy: 0.6725 - lr: 0.0010\n",
            "Epoch 11/50\n",
            "251/251 [==============================] - 3s 12ms/step - loss: 0.6193 - accuracy: 0.7671 - val_loss: 0.7236 - val_accuracy: 0.7314 - lr: 1.0000e-04\n",
            "Epoch 12/50\n",
            "251/251 [==============================] - 3s 10ms/step - loss: 0.6018 - accuracy: 0.7743 - val_loss: 0.7039 - val_accuracy: 0.7284 - lr: 1.0000e-04\n",
            "Epoch 13/50\n",
            "251/251 [==============================] - 3s 10ms/step - loss: 0.5895 - accuracy: 0.7813 - val_loss: 0.7190 - val_accuracy: 0.7359 - lr: 1.0000e-04\n",
            "Epoch 14/50\n",
            "251/251 [==============================] - 3s 10ms/step - loss: 0.5888 - accuracy: 0.7795 - val_loss: 0.7323 - val_accuracy: 0.7274 - lr: 1.0000e-04\n",
            "Epoch 15/50\n",
            "251/251 [==============================] - 3s 12ms/step - loss: 0.5855 - accuracy: 0.7817 - val_loss: 0.7177 - val_accuracy: 0.7234 - lr: 1.0000e-04\n",
            "Epoch 16/50\n",
            "251/251 [==============================] - 3s 10ms/step - loss: 0.5755 - accuracy: 0.7832 - val_loss: 0.7711 - val_accuracy: 0.7314 - lr: 1.0000e-04\n",
            "Epoch 17/50\n",
            "251/251 [==============================] - 3s 10ms/step - loss: 0.5724 - accuracy: 0.7878 - val_loss: 0.7098 - val_accuracy: 0.7429 - lr: 1.0000e-04\n",
            "Epoch 18/50\n",
            "251/251 [==============================] - 3s 10ms/step - loss: 0.5707 - accuracy: 0.7888 - val_loss: 0.9052 - val_accuracy: 0.7154 - lr: 1.0000e-04\n",
            "Epoch 19/50\n",
            "251/251 [==============================] - 3s 11ms/step - loss: 0.5626 - accuracy: 0.7888 - val_loss: 0.7104 - val_accuracy: 0.7239 - lr: 1.0000e-04\n",
            "Epoch 20/50\n",
            "251/251 [==============================] - 3s 12ms/step - loss: 0.5566 - accuracy: 0.7927 - val_loss: 0.6955 - val_accuracy: 0.7399 - lr: 1.0000e-04\n",
            "Epoch 21/50\n",
            "251/251 [==============================] - 3s 11ms/step - loss: 0.5505 - accuracy: 0.7977 - val_loss: 0.7006 - val_accuracy: 0.7404 - lr: 1.0000e-05\n",
            "Epoch 22/50\n",
            "251/251 [==============================] - 3s 10ms/step - loss: 0.5409 - accuracy: 0.7979 - val_loss: 0.7032 - val_accuracy: 0.7449 - lr: 1.0000e-05\n",
            "Epoch 23/50\n",
            "251/251 [==============================] - 3s 10ms/step - loss: 0.5458 - accuracy: 0.7961 - val_loss: 0.7064 - val_accuracy: 0.7394 - lr: 1.0000e-05\n",
            "Epoch 24/50\n",
            "251/251 [==============================] - 3s 12ms/step - loss: 0.5447 - accuracy: 0.7967 - val_loss: 0.7011 - val_accuracy: 0.7414 - lr: 1.0000e-05\n",
            "Epoch 25/50\n",
            "251/251 [==============================] - 3s 11ms/step - loss: 0.5391 - accuracy: 0.7987 - val_loss: 0.7008 - val_accuracy: 0.7424 - lr: 1.0000e-05\n",
            "Epoch 26/50\n",
            "251/251 [==============================] - 3s 11ms/step - loss: 0.5396 - accuracy: 0.7997 - val_loss: 0.7017 - val_accuracy: 0.7374 - lr: 1.0000e-05\n",
            "Epoch 27/50\n",
            "251/251 [==============================] - 3s 11ms/step - loss: 0.5434 - accuracy: 0.7996 - val_loss: 0.7020 - val_accuracy: 0.7419 - lr: 1.0000e-05\n",
            "Epoch 28/50\n",
            "251/251 [==============================] - 3s 11ms/step - loss: 0.5411 - accuracy: 0.7948 - val_loss: 0.7047 - val_accuracy: 0.7424 - lr: 1.0000e-05\n",
            "Epoch 29/50\n",
            "251/251 [==============================] - 3s 12ms/step - loss: 0.5404 - accuracy: 0.7943 - val_loss: 0.7066 - val_accuracy: 0.7399 - lr: 1.0000e-05\n",
            "Epoch 30/50\n",
            "251/251 [==============================] - 3s 10ms/step - loss: 0.5358 - accuracy: 0.8004 - val_loss: 0.6995 - val_accuracy: 0.7384 - lr: 1.0000e-05\n",
            "Epoch 31/50\n",
            "251/251 [==============================] - 3s 10ms/step - loss: 0.5381 - accuracy: 0.7992 - val_loss: 0.7026 - val_accuracy: 0.7384 - lr: 1.0000e-05\n",
            "Epoch 32/50\n",
            "251/251 [==============================] - 3s 11ms/step - loss: 0.5343 - accuracy: 0.7992 - val_loss: 0.7033 - val_accuracy: 0.7374 - lr: 1.0000e-05\n",
            "Epoch 33/50\n",
            "251/251 [==============================] - 3s 14ms/step - loss: 0.5396 - accuracy: 0.8018 - val_loss: 0.7090 - val_accuracy: 0.7444 - lr: 1.0000e-05\n",
            "Epoch 34/50\n",
            "251/251 [==============================] - 3s 12ms/step - loss: 0.5336 - accuracy: 0.8009 - val_loss: 0.7019 - val_accuracy: 0.7394 - lr: 1.0000e-05\n",
            "Epoch 35/50\n",
            "251/251 [==============================] - 3s 11ms/step - loss: 0.5388 - accuracy: 0.7983 - val_loss: 0.7058 - val_accuracy: 0.7424 - lr: 1.0000e-05\n",
            "Epoch 36/50\n",
            "251/251 [==============================] - 3s 10ms/step - loss: 0.5355 - accuracy: 0.8012 - val_loss: 0.7051 - val_accuracy: 0.7424 - lr: 1.0000e-05\n",
            "Epoch 37/50\n",
            "251/251 [==============================] - 3s 11ms/step - loss: 0.5335 - accuracy: 0.7994 - val_loss: 0.7043 - val_accuracy: 0.7399 - lr: 1.0000e-05\n",
            "Epoch 38/50\n",
            "251/251 [==============================] - 3s 12ms/step - loss: 0.5390 - accuracy: 0.7996 - val_loss: 0.7049 - val_accuracy: 0.7409 - lr: 1.0000e-05\n",
            "Epoch 39/50\n",
            "251/251 [==============================] - 3s 10ms/step - loss: 0.5339 - accuracy: 0.7992 - val_loss: 0.7089 - val_accuracy: 0.7424 - lr: 1.0000e-05\n",
            "Epoch 40/50\n",
            "251/251 [==============================] - 3s 10ms/step - loss: 0.5317 - accuracy: 0.8008 - val_loss: 0.7043 - val_accuracy: 0.7384 - lr: 1.0000e-05\n",
            "Epoch 41/50\n",
            "251/251 [==============================] - 3s 10ms/step - loss: 0.5274 - accuracy: 0.8032 - val_loss: 0.7107 - val_accuracy: 0.7399 - lr: 1.0000e-05\n",
            "Epoch 42/50\n",
            "251/251 [==============================] - 3s 13ms/step - loss: 0.5363 - accuracy: 0.8020 - val_loss: 0.7063 - val_accuracy: 0.7379 - lr: 1.0000e-05\n",
            "Epoch 43/50\n",
            "251/251 [==============================] - 3s 12ms/step - loss: 0.5326 - accuracy: 0.8002 - val_loss: 0.7060 - val_accuracy: 0.7414 - lr: 1.0000e-05\n",
            "Epoch 44/50\n",
            "251/251 [==============================] - 3s 10ms/step - loss: 0.5230 - accuracy: 0.8073 - val_loss: 0.7042 - val_accuracy: 0.7364 - lr: 1.0000e-05\n",
            "Epoch 45/50\n",
            "251/251 [==============================] - 3s 11ms/step - loss: 0.5318 - accuracy: 0.8005 - val_loss: 0.7083 - val_accuracy: 0.7384 - lr: 1.0000e-05\n",
            "Epoch 46/50\n",
            "251/251 [==============================] - 3s 11ms/step - loss: 0.5276 - accuracy: 0.8013 - val_loss: 0.7091 - val_accuracy: 0.7389 - lr: 1.0000e-05\n",
            "Epoch 47/50\n",
            "251/251 [==============================] - 3s 11ms/step - loss: 0.5291 - accuracy: 0.8023 - val_loss: 0.7054 - val_accuracy: 0.7379 - lr: 1.0000e-05\n",
            "Epoch 48/50\n",
            "251/251 [==============================] - 3s 10ms/step - loss: 0.5318 - accuracy: 0.8024 - val_loss: 0.7080 - val_accuracy: 0.7389 - lr: 1.0000e-05\n",
            "Epoch 49/50\n",
            "251/251 [==============================] - 2s 10ms/step - loss: 0.5294 - accuracy: 0.8018 - val_loss: 0.7098 - val_accuracy: 0.7414 - lr: 1.0000e-05\n",
            "Epoch 50/50\n",
            "251/251 [==============================] - 3s 10ms/step - loss: 0.5278 - accuracy: 0.7977 - val_loss: 0.7111 - val_accuracy: 0.7394 - lr: 1.0000e-05\n"
          ]
        }
      ]
    },
    {
      "cell_type": "code",
      "source": [
        "test_loss, test_accuracy = model.evaluate(X_test, y_test)\n",
        "\n",
        "# Print the test loss and accuracy\n",
        "print(\"Test Loss:\", test_loss)\n",
        "print(\"Test Accuracy:\", test_accuracy)"
      ],
      "metadata": {
        "id": "nFWZREAoMeNM"
      },
      "execution_count": null,
      "outputs": []
    },
    {
      "cell_type": "code",
      "source": [
        "Y_pred_labels=model.predict(X_test)"
      ],
      "metadata": {
        "colab": {
          "base_uri": "https://localhost:8080/"
        },
        "id": "9RCbo5hkbhAZ",
        "outputId": "989af762-fd9e-4d7b-9707-2570fc2bab1a"
      },
      "execution_count": 39,
      "outputs": [
        {
          "output_type": "stream",
          "name": "stdout",
          "text": [
            "63/63 [==============================] - 1s 4ms/step\n"
          ]
        }
      ]
    }
  ]
}